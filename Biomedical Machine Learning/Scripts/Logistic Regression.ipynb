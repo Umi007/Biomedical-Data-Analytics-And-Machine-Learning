{
 "cells": [
  {
   "cell_type": "code",
   "execution_count": 163,
   "id": "ca99a8d5",
   "metadata": {},
   "outputs": [],
   "source": [
    "import pandas\n",
    "from sklearn.model_selection import cross_val_score\n",
    "from sklearn.preprocessing import LabelEncoder\n",
    "from sklearn.model_selection import StratifiedKFold\n",
    "from sklearn import tree\n",
    "from sklearn.tree import DecisionTreeClassifier\n",
    "from sklearn.linear_model import LogisticRegression as lr\n",
    "from sklearn import metrics\n",
    "import seaborn"
   ]
  },
  {
   "cell_type": "code",
   "execution_count": 164,
   "id": "adba8938",
   "metadata": {},
   "outputs": [],
   "source": [
    "data = pandas.read_csv(\"CW - part 2/data/processed.pkl.gz\")"
   ]
  },
  {
   "cell_type": "code",
   "execution_count": 165,
   "id": "adfc7342",
   "metadata": {},
   "outputs": [],
   "source": [
    "# clone database and convert CDR column to bool\n",
    "data1 = data.copy()\n",
    "data1[\"CDR\"] = data1['CDR'].map({'very mild': True, 'mild': True, 'moderate': True, 'none': False})"
   ]
  },
  {
   "cell_type": "code",
   "execution_count": 166,
   "id": "23618486",
   "metadata": {},
   "outputs": [],
   "source": [
    "# Set up has dementia column for Binary Tree\n",
    "data.insert(13,\"has_dementia?\", data1[\"CDR\"])"
   ]
  },
  {
   "cell_type": "code",
   "execution_count": 167,
   "id": "de61771f",
   "metadata": {},
   "outputs": [],
   "source": [
    "y_target = data[\"has_dementia?\"]\n",
    "x_data = data.drop(\"has_dementia?\", axis=\"columns\")"
   ]
  },
  {
   "cell_type": "code",
   "execution_count": 168,
   "id": "9f2ff096",
   "metadata": {},
   "outputs": [],
   "source": [
    "le_CDR = LabelEncoder()\n",
    "le_sex = LabelEncoder()\n",
    "le_hand = LabelEncoder()\n",
    "le_MRI_visit = LabelEncoder()\n",
    "x_data['CDR_num'] = le_CDR.fit_transform(x_data['CDR'])\n",
    "x_data['sex_num'] = le_sex.fit_transform(x_data['sex'])\n",
    "x_data['hand_num'] = le_hand.fit_transform(x_data['hand'])\n",
    "x_data['MRI_visit_num'] = le_MRI_visit.fit_transform(x_data['MRI_visit'])"
   ]
  },
  {
   "cell_type": "code",
   "execution_count": 169,
   "id": "67b9d946",
   "metadata": {},
   "outputs": [],
   "source": [
    "x_data = x_data.drop(['CDR','sex','hand','MRI_visit', 'ID'],axis='columns')"
   ]
  },
  {
   "cell_type": "code",
   "execution_count": 170,
   "id": "d4d59a49",
   "metadata": {},
   "outputs": [
    {
     "data": {
      "text/plain": [
       "<AxesSubplot:xlabel='MMSE', ylabel='has_dementia?'>"
      ]
     },
     "execution_count": 170,
     "metadata": {},
     "output_type": "execute_result"
    },
    {
     "data": {
      "image/png": "[encoded data removed]",
      "text/plain": [
       "<Figure size 432x288 with 1 Axes>"
      ]
     },
     "metadata": {
      "needs_background": "light"
     },
     "output_type": "display_data"
    }
   ],
   "source": [
    "x = x_data[\"MMSE\"]\n",
    "y = data[\"has_dementia?\"]\n",
    "\n",
    "seaborn.regplot(x=x,y=y,data=data,logistic=True,ci=None, line_kws={'color': 'green'}, scatter_kws={'color': 'black'})"
   ]
  },
  {
   "cell_type": "code",
   "execution_count": 171,
   "id": "5d7cb67b",
   "metadata": {},
   "outputs": [
    {
     "data": {
      "text/plain": [
       "False    206\n",
       "True     167\n",
       "Name: CDR, dtype: int64"
      ]
     },
     "execution_count": 171,
     "metadata": {},
     "output_type": "execute_result"
    }
   ],
   "source": [
    "data1.CDR.value_counts()"
   ]
  },
  {
   "cell_type": "code",
   "execution_count": 172,
   "id": "c2b6dbcf",
   "metadata": {},
   "outputs": [],
   "source": [
    "logistic_reg = lr(multi_class=\"ovr\", max_iter=4009).fit(x_data, y_target)"
   ]
  },
  {
   "cell_type": "code",
   "execution_count": 173,
   "id": "bfa3c0ba",
   "metadata": {},
   "outputs": [
    {
     "data": {
      "text/plain": [
       "array([ True, False,  True,  True,  True, False, False, False,  True,\n",
       "       False,  True, False, False, False, False,  True,  True, False,\n",
       "        True, False, False, False, False, False, False,  True,  True,\n",
       "        True,  True, False,  True, False,  True, False, False,  True,\n",
       "       False,  True,  True,  True,  True, False, False,  True,  True,\n",
       "        True,  True, False, False, False, False,  True,  True, False,\n",
       "       False, False, False, False, False,  True,  True,  True, False,\n",
       "       False, False, False, False, False, False, False, False, False,\n",
       "        True,  True,  True,  True,  True,  True,  True,  True,  True,\n",
       "        True,  True,  True, False, False,  True,  True,  True,  True,\n",
       "        True, False, False,  True,  True, False, False,  True,  True,\n",
       "        True,  True,  True, False, False, False,  True,  True, False,\n",
       "       False, False, False, False, False, False, False,  True, False,\n",
       "        True, False, False, False, False, False, False,  True,  True,\n",
       "        True,  True, False, False, False, False, False, False,  True,\n",
       "        True,  True,  True,  True, False, False, False, False, False,\n",
       "        True, False, False, False, False,  True, False, False, False,\n",
       "       False, False, False, False, False, False, False, False,  True,\n",
       "        True, False, False, False, False, False,  True,  True, False,\n",
       "        True,  True,  True,  True,  True,  True,  True,  True, False,\n",
       "        True, False, False, False,  True,  True,  True,  True, False,\n",
       "       False, False, False, False, False, False,  True, False, False,\n",
       "       False, False, False, False, False, False, False, False,  True,\n",
       "        True,  True, False, False, False, False, False, False,  True,\n",
       "        True, False, False, False, False,  True,  True, False, False,\n",
       "        True,  True,  True,  True, False, False,  True,  True,  True,\n",
       "        True,  True,  True,  True, False,  True,  True, False, False,\n",
       "       False, False, False,  True, False, False, False, False,  True,\n",
       "       False, False, False, False,  True,  True, False, False, False,\n",
       "       False,  True,  True,  True, False, False, False, False, False,\n",
       "       False,  True,  True, False,  True, False,  True, False,  True,\n",
       "        True, False, False, False,  True,  True,  True,  True,  True,\n",
       "       False, False, False, False, False, False, False, False,  True,\n",
       "       False, False,  True,  True, False, False, False, False, False,\n",
       "       False, False, False, False, False, False, False, False, False,\n",
       "       False,  True,  True, False, False, False,  True,  True, False,\n",
       "       False, False, False,  True,  True,  True,  True,  True,  True,\n",
       "       False, False, False, False, False,  True,  True, False, False,\n",
       "       False,  True,  True,  True, False, False, False,  True,  True,\n",
       "       False, False, False,  True,  True,  True,  True,  True,  True,\n",
       "        True, False, False, False, False,  True,  True,  True,  True,\n",
       "        True, False, False, False])"
      ]
     },
     "execution_count": 173,
     "metadata": {},
     "output_type": "execute_result"
    }
   ],
   "source": [
    "logistic_reg.predict(x_data[:])"
   ]
  },
  {
   "cell_type": "code",
   "execution_count": 174,
   "id": "fa2a2348",
   "metadata": {},
   "outputs": [
    {
     "data": {
      "text/plain": [
       "array([[0.29, 0.71],\n",
       "       [0.93, 0.07],\n",
       "       [0.  , 1.  ],\n",
       "       [0.01, 0.99],\n",
       "       [0.  , 1.  ],\n",
       "       [0.95, 0.05],\n",
       "       [0.86, 0.14],\n",
       "       [0.67, 0.33],\n",
       "       [0.5 , 0.5 ],\n",
       "       [0.95, 0.05]])"
      ]
     },
     "execution_count": 174,
     "metadata": {},
     "output_type": "execute_result"
    }
   ],
   "source": [
    "logistic_reg.predict_proba(x_data[:10]).round(2)"
   ]
  },
  {
   "cell_type": "code",
   "execution_count": 175,
   "id": "f73d3f99",
   "metadata": {},
   "outputs": [
    {
     "data": {
      "text/plain": [
       "0.8954423592493298"
      ]
     },
     "execution_count": 175,
     "metadata": {},
     "output_type": "execute_result"
    }
   ],
   "source": [
    "logistic_reg.score(x_data,y)"
   ]
  },
  {
   "cell_type": "code",
   "execution_count": 176,
   "id": "a4685239",
   "metadata": {},
   "outputs": [],
   "source": [
    "predicted = logistic_reg.predict(x_data)"
   ]
  },
  {
   "cell_type": "code",
   "execution_count": 177,
   "id": "62f58276",
   "metadata": {},
   "outputs": [],
   "source": [
    "report = metrics.classification_report(y, predicted)"
   ]
  },
  {
   "cell_type": "code",
   "execution_count": 179,
   "id": "6dbba917",
   "metadata": {},
   "outputs": [
    {
     "name": "stdout",
     "output_type": "stream",
     "text": [
      "              precision    recall  f1-score   support\n",
      "\n",
      "       False       0.88      0.93      0.91       206\n",
      "        True       0.91      0.85      0.88       167\n",
      "\n",
      "    accuracy                           0.90       373\n",
      "   macro avg       0.90      0.89      0.89       373\n",
      "weighted avg       0.90      0.90      0.90       373\n",
      "\n"
     ]
    }
   ],
   "source": [
    "print(report)"
   ]
  },
  {
   "cell_type": "code",
   "execution_count": 181,
   "id": "bad55eb4",
   "metadata": {},
   "outputs": [
    {
     "data": {
      "text/plain": [
       "0.8681560373857444"
      ]
     },
     "execution_count": 181,
     "metadata": {},
     "output_type": "execute_result"
    }
   ],
   "source": [
    "cross_val_score(lr(max_iter=4009, multi_class=\"ovr\"), x_data, y_target, scoring=\"f1\", cv=8).mean()"
   ]
  },
  {
   "cell_type": "code",
   "execution_count": 182,
   "id": "833ff8c2",
   "metadata": {},
   "outputs": [
    {
     "data": {
      "text/plain": [
       "0.8873149861239593"
      ]
     },
     "execution_count": 182,
     "metadata": {},
     "output_type": "execute_result"
    }
   ],
   "source": [
    "cross_val_score(lr(max_iter=4009, multi_class=\"ovr\"), x_data, y_target, scoring=\"accuracy\", cv=8).mean()"
   ]
  },
  {
   "cell_type": "code",
   "execution_count": null,
   "id": "352955fa",
   "metadata": {},
   "outputs": [],
   "source": []
  }
 ],
 "metadata": {
  "kernelspec": {
   "display_name": "Python 3 (ipykernel)",
   "language": "python",
   "name": "python3"
  },
  "language_info": {
   "codemirror_mode": {
    "name": "ipython",
    "version": 3
   },
   "file_extension": ".py",
   "mimetype": "text/x-python",
   "name": "python",
   "nbconvert_exporter": "python",
   "pygments_lexer": "ipython3",
   "version": "3.9.12"
  }
 },
 "nbformat": 4,
 "nbformat_minor": 5
}
