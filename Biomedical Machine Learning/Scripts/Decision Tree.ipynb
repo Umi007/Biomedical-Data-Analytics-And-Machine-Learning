{
 "cells": [
  {
   "cell_type": "code",
   "execution_count": 300,
   "id": "b16cf5fc",
   "metadata": {},
   "outputs": [],
   "source": [
    "import pandas\n",
    "from sklearn.model_selection import cross_val_score\n",
    "from sklearn.preprocessing import LabelEncoder\n",
    "from sklearn.model_selection import StratifiedKFold\n",
    "from sklearn import tree\n",
    "from sklearn.tree import DecisionTreeClassifier\n",
    "from sklearn.linear_model import LogisticRegression as lr\n",
    "from sklearn.metrics import classification_report\n",
    "from sklearn import metrics"
   ]
  },
  {
   "cell_type": "code",
   "execution_count": 301,
   "id": "edc23546",
   "metadata": {},
   "outputs": [],
   "source": [
    "data = pandas.read_csv(\"CW - part 2/data/processed.pkl.gz\")"
   ]
  },
  {
   "cell_type": "code",
   "execution_count": 302,
   "id": "525566d6",
   "metadata": {},
   "outputs": [],
   "source": [
    "# clone database and convert CDR column to bool\n",
    "data1 = data.copy()\n",
    "data1[\"CDR\"] = data1['CDR'].map({'very mild': True, 'mild': True, 'moderate': True, 'none': False})"
   ]
  },
  {
   "cell_type": "code",
   "execution_count": 303,
   "id": "216ee52a",
   "metadata": {},
   "outputs": [],
   "source": [
    "data.insert(13,\"has_dementia?\", data1[\"CDR\"])"
   ]
  },
  {
   "cell_type": "code",
   "execution_count": 304,
   "id": "c3b8f536",
   "metadata": {},
   "outputs": [
    {
     "data": {
      "text/html": [
       "<div>\n",
       "<style scoped>\n",
       "    .dataframe tbody tr th:only-of-type {\n",
       "        vertical-align: middle;\n",
       "    }\n",
       "\n",
       "    .dataframe tbody tr th {\n",
       "        vertical-align: top;\n",
       "    }\n",
       "\n",
       "    .dataframe thead th {\n",
       "        text-align: right;\n",
       "    }\n",
       "</style>\n",
       "<table border=\"1\" class=\"dataframe\">\n",
       "  <thead>\n",
       "    <tr style=\"text-align: right;\">\n",
       "      <th></th>\n",
       "      <th>ID</th>\n",
       "      <th>MRI_visit</th>\n",
       "      <th>delay</th>\n",
       "      <th>sex</th>\n",
       "      <th>hand</th>\n",
       "      <th>age</th>\n",
       "      <th>YOE</th>\n",
       "      <th>SES</th>\n",
       "      <th>MMSE</th>\n",
       "      <th>CDR</th>\n",
       "      <th>eTIV</th>\n",
       "      <th>nWBV</th>\n",
       "      <th>ASF</th>\n",
       "      <th>has_dementia?</th>\n",
       "    </tr>\n",
       "  </thead>\n",
       "  <tbody>\n",
       "    <tr>\n",
       "      <th>0</th>\n",
       "      <td>1</td>\n",
       "      <td>MR1</td>\n",
       "      <td>0</td>\n",
       "      <td>M</td>\n",
       "      <td>R</td>\n",
       "      <td>87</td>\n",
       "      <td>14</td>\n",
       "      <td>2.0</td>\n",
       "      <td>27.0</td>\n",
       "      <td>none</td>\n",
       "      <td>1987.0</td>\n",
       "      <td>0.696</td>\n",
       "      <td>0.883</td>\n",
       "      <td>False</td>\n",
       "    </tr>\n",
       "    <tr>\n",
       "      <th>1</th>\n",
       "      <td>1</td>\n",
       "      <td>MR2</td>\n",
       "      <td>457</td>\n",
       "      <td>M</td>\n",
       "      <td>R</td>\n",
       "      <td>88</td>\n",
       "      <td>14</td>\n",
       "      <td>2.0</td>\n",
       "      <td>30.0</td>\n",
       "      <td>none</td>\n",
       "      <td>2004.0</td>\n",
       "      <td>0.681</td>\n",
       "      <td>0.876</td>\n",
       "      <td>False</td>\n",
       "    </tr>\n",
       "    <tr>\n",
       "      <th>2</th>\n",
       "      <td>2</td>\n",
       "      <td>MR1</td>\n",
       "      <td>0</td>\n",
       "      <td>M</td>\n",
       "      <td>R</td>\n",
       "      <td>75</td>\n",
       "      <td>12</td>\n",
       "      <td>0.0</td>\n",
       "      <td>23.0</td>\n",
       "      <td>very mild</td>\n",
       "      <td>1678.0</td>\n",
       "      <td>0.736</td>\n",
       "      <td>1.046</td>\n",
       "      <td>True</td>\n",
       "    </tr>\n",
       "    <tr>\n",
       "      <th>3</th>\n",
       "      <td>2</td>\n",
       "      <td>MR2</td>\n",
       "      <td>560</td>\n",
       "      <td>M</td>\n",
       "      <td>R</td>\n",
       "      <td>76</td>\n",
       "      <td>12</td>\n",
       "      <td>0.0</td>\n",
       "      <td>28.0</td>\n",
       "      <td>very mild</td>\n",
       "      <td>1738.0</td>\n",
       "      <td>0.713</td>\n",
       "      <td>1.010</td>\n",
       "      <td>True</td>\n",
       "    </tr>\n",
       "    <tr>\n",
       "      <th>4</th>\n",
       "      <td>2</td>\n",
       "      <td>MR3</td>\n",
       "      <td>1895</td>\n",
       "      <td>M</td>\n",
       "      <td>R</td>\n",
       "      <td>77</td>\n",
       "      <td>12</td>\n",
       "      <td>0.0</td>\n",
       "      <td>22.0</td>\n",
       "      <td>very mild</td>\n",
       "      <td>1698.0</td>\n",
       "      <td>0.701</td>\n",
       "      <td>1.034</td>\n",
       "      <td>True</td>\n",
       "    </tr>\n",
       "    <tr>\n",
       "      <th>...</th>\n",
       "      <td>...</td>\n",
       "      <td>...</td>\n",
       "      <td>...</td>\n",
       "      <td>...</td>\n",
       "      <td>...</td>\n",
       "      <td>...</td>\n",
       "      <td>...</td>\n",
       "      <td>...</td>\n",
       "      <td>...</td>\n",
       "      <td>...</td>\n",
       "      <td>...</td>\n",
       "      <td>...</td>\n",
       "      <td>...</td>\n",
       "      <td>...</td>\n",
       "    </tr>\n",
       "    <tr>\n",
       "      <th>368</th>\n",
       "      <td>149</td>\n",
       "      <td>MR2</td>\n",
       "      <td>842</td>\n",
       "      <td>M</td>\n",
       "      <td>R</td>\n",
       "      <td>81</td>\n",
       "      <td>16</td>\n",
       "      <td>1.0</td>\n",
       "      <td>28.0</td>\n",
       "      <td>very mild</td>\n",
       "      <td>1693.0</td>\n",
       "      <td>0.694</td>\n",
       "      <td>1.037</td>\n",
       "      <td>True</td>\n",
       "    </tr>\n",
       "    <tr>\n",
       "      <th>369</th>\n",
       "      <td>149</td>\n",
       "      <td>MR3</td>\n",
       "      <td>2297</td>\n",
       "      <td>M</td>\n",
       "      <td>R</td>\n",
       "      <td>82</td>\n",
       "      <td>16</td>\n",
       "      <td>1.0</td>\n",
       "      <td>26.0</td>\n",
       "      <td>very mild</td>\n",
       "      <td>1688.0</td>\n",
       "      <td>0.675</td>\n",
       "      <td>1.040</td>\n",
       "      <td>True</td>\n",
       "    </tr>\n",
       "    <tr>\n",
       "      <th>370</th>\n",
       "      <td>150</td>\n",
       "      <td>MR1</td>\n",
       "      <td>0</td>\n",
       "      <td>F</td>\n",
       "      <td>R</td>\n",
       "      <td>61</td>\n",
       "      <td>13</td>\n",
       "      <td>2.0</td>\n",
       "      <td>30.0</td>\n",
       "      <td>none</td>\n",
       "      <td>1319.0</td>\n",
       "      <td>0.801</td>\n",
       "      <td>1.331</td>\n",
       "      <td>False</td>\n",
       "    </tr>\n",
       "    <tr>\n",
       "      <th>371</th>\n",
       "      <td>150</td>\n",
       "      <td>MR2</td>\n",
       "      <td>763</td>\n",
       "      <td>F</td>\n",
       "      <td>R</td>\n",
       "      <td>62</td>\n",
       "      <td>13</td>\n",
       "      <td>2.0</td>\n",
       "      <td>30.0</td>\n",
       "      <td>none</td>\n",
       "      <td>1327.0</td>\n",
       "      <td>0.796</td>\n",
       "      <td>1.323</td>\n",
       "      <td>False</td>\n",
       "    </tr>\n",
       "    <tr>\n",
       "      <th>372</th>\n",
       "      <td>150</td>\n",
       "      <td>MR3</td>\n",
       "      <td>1608</td>\n",
       "      <td>F</td>\n",
       "      <td>R</td>\n",
       "      <td>63</td>\n",
       "      <td>13</td>\n",
       "      <td>2.0</td>\n",
       "      <td>30.0</td>\n",
       "      <td>none</td>\n",
       "      <td>1333.0</td>\n",
       "      <td>0.801</td>\n",
       "      <td>1.317</td>\n",
       "      <td>False</td>\n",
       "    </tr>\n",
       "  </tbody>\n",
       "</table>\n",
       "<p>373 rows × 14 columns</p>\n",
       "</div>"
      ],
      "text/plain": [
       "      ID MRI_visit  delay sex hand  age  YOE  SES  MMSE        CDR    eTIV  \\\n",
       "0      1       MR1      0   M    R   87   14  2.0  27.0       none  1987.0   \n",
       "1      1       MR2    457   M    R   88   14  2.0  30.0       none  2004.0   \n",
       "2      2       MR1      0   M    R   75   12  0.0  23.0  very mild  1678.0   \n",
       "3      2       MR2    560   M    R   76   12  0.0  28.0  very mild  1738.0   \n",
       "4      2       MR3   1895   M    R   77   12  0.0  22.0  very mild  1698.0   \n",
       "..   ...       ...    ...  ..  ...  ...  ...  ...   ...        ...     ...   \n",
       "368  149       MR2    842   M    R   81   16  1.0  28.0  very mild  1693.0   \n",
       "369  149       MR3   2297   M    R   82   16  1.0  26.0  very mild  1688.0   \n",
       "370  150       MR1      0   F    R   61   13  2.0  30.0       none  1319.0   \n",
       "371  150       MR2    763   F    R   62   13  2.0  30.0       none  1327.0   \n",
       "372  150       MR3   1608   F    R   63   13  2.0  30.0       none  1333.0   \n",
       "\n",
       "      nWBV    ASF  has_dementia?  \n",
       "0    0.696  0.883          False  \n",
       "1    0.681  0.876          False  \n",
       "2    0.736  1.046           True  \n",
       "3    0.713  1.010           True  \n",
       "4    0.701  1.034           True  \n",
       "..     ...    ...            ...  \n",
       "368  0.694  1.037           True  \n",
       "369  0.675  1.040           True  \n",
       "370  0.801  1.331          False  \n",
       "371  0.796  1.323          False  \n",
       "372  0.801  1.317          False  \n",
       "\n",
       "[373 rows x 14 columns]"
      ]
     },
     "execution_count": 304,
     "metadata": {},
     "output_type": "execute_result"
    }
   ],
   "source": [
    "data"
   ]
  },
  {
   "cell_type": "code",
   "execution_count": 305,
   "id": "785d7b4f",
   "metadata": {},
   "outputs": [],
   "source": [
    "y = data[\"has_dementia?\"]\n",
    "x = data.drop(\"has_dementia?\", axis=\"columns\")"
   ]
  },
  {
   "cell_type": "code",
   "execution_count": 306,
   "id": "c53015b6",
   "metadata": {},
   "outputs": [],
   "source": [
    "le_CDR = LabelEncoder()\n",
    "le_sex = LabelEncoder()\n",
    "le_hand = LabelEncoder()\n",
    "le_MRI_visit = LabelEncoder()"
   ]
  },
  {
   "cell_type": "code",
   "execution_count": 307,
   "id": "c2f44d89",
   "metadata": {},
   "outputs": [],
   "source": [
    "x['CDR_num'] = le_CDR.fit_transform(x['CDR'])\n",
    "x['sex_num'] = le_sex.fit_transform(x['sex'])\n",
    "x['hand_num'] = le_hand.fit_transform(x['hand'])\n",
    "x['MRI_visit_num'] = le_MRI_visit.fit_transform(x['MRI_visit'])"
   ]
  },
  {
   "cell_type": "code",
   "execution_count": 308,
   "id": "91f0839b",
   "metadata": {},
   "outputs": [],
   "source": [
    "x = x.drop(['CDR','sex','hand','MRI_visit', 'ID', 'CDR_num'],axis='columns')"
   ]
  },
  {
   "cell_type": "code",
   "execution_count": 413,
   "id": "62b25a7e",
   "metadata": {},
   "outputs": [],
   "source": [
    "dt = tree.DecisionTreeClassifier(max_depth=3)"
   ]
  },
  {
   "cell_type": "code",
   "execution_count": 414,
   "id": "6b7cb028",
   "metadata": {},
   "outputs": [],
   "source": [
    "predicted = dt.fit(x,y).predict(x)"
   ]
  },
  {
   "cell_type": "code",
   "execution_count": 415,
   "id": "cbbf54c9",
   "metadata": {},
   "outputs": [],
   "source": [
    "report = metrics.classification_report(y, predicted)"
   ]
  },
  {
   "cell_type": "code",
   "execution_count": 416,
   "id": "0089e659",
   "metadata": {},
   "outputs": [
    {
     "name": "stdout",
     "output_type": "stream",
     "text": [
      "              precision    recall  f1-score   support\n",
      "\n",
      "       False       0.79      0.96      0.87       206\n",
      "        True       0.93      0.69      0.79       167\n",
      "\n",
      "    accuracy                           0.84       373\n",
      "   macro avg       0.86      0.82      0.83       373\n",
      "weighted avg       0.85      0.84      0.83       373\n",
      "\n"
     ]
    }
   ],
   "source": [
    "print(report)"
   ]
  },
  {
   "cell_type": "code",
   "execution_count": 417,
   "id": "d8920378",
   "metadata": {},
   "outputs": [
    {
     "data": {
      "text/plain": [
       "0.780072072072072"
      ]
     },
     "execution_count": 417,
     "metadata": {},
     "output_type": "execute_result"
    }
   ],
   "source": [
    "cross_val_score(dt, x, y, scoring=\"accuracy\", cv=5).mean()"
   ]
  },
  {
   "cell_type": "code",
   "execution_count": 418,
   "id": "cf96d3a6",
   "metadata": {},
   "outputs": [],
   "source": [
    "text = tree.export_text(dt, feature_names=x.columns.tolist())"
   ]
  },
  {
   "cell_type": "code",
   "execution_count": 419,
   "id": "a45906ab",
   "metadata": {},
   "outputs": [
    {
     "name": "stdout",
     "output_type": "stream",
     "text": [
      "|--- MMSE <= 27.50\n",
      "|   |--- MMSE <= 26.50\n",
      "|   |   |--- nWBV <= 0.76\n",
      "|   |   |   |--- class: True\n",
      "|   |   |--- nWBV >  0.76\n",
      "|   |   |   |--- class: True\n",
      "|   |--- MMSE >  26.50\n",
      "|   |   |--- eTIV <= 1299.00\n",
      "|   |   |   |--- class: False\n",
      "|   |   |--- eTIV >  1299.00\n",
      "|   |   |   |--- class: True\n",
      "|--- MMSE >  27.50\n",
      "|   |--- sex_num <= 0.50\n",
      "|   |   |--- MMSE <= 28.50\n",
      "|   |   |   |--- class: False\n",
      "|   |   |--- MMSE >  28.50\n",
      "|   |   |   |--- class: False\n",
      "|   |--- sex_num >  0.50\n",
      "|   |   |--- ASF <= 1.29\n",
      "|   |   |   |--- class: False\n",
      "|   |   |--- ASF >  1.29\n",
      "|   |   |   |--- class: True\n",
      "\n"
     ]
    }
   ],
   "source": [
    "print(text)"
   ]
  },
  {
   "cell_type": "code",
   "execution_count": null,
   "id": "bc949c5f",
   "metadata": {},
   "outputs": [],
   "source": []
  }
 ],
 "metadata": {
  "kernelspec": {
   "display_name": "Python 3 (ipykernel)",
   "language": "python",
   "name": "python3"
  },
  "language_info": {
   "codemirror_mode": {
    "name": "ipython",
    "version": 3
   },
   "file_extension": ".py",
   "mimetype": "text/x-python",
   "name": "python",
   "nbconvert_exporter": "python",
   "pygments_lexer": "ipython3",
   "version": "3.9.12"
  }
 },
 "nbformat": 4,
 "nbformat_minor": 5
}
